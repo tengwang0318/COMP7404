{
 "cells": [
  {
   "cell_type": "code",
   "execution_count": null,
   "metadata": {
    "collapsed": true
   },
   "outputs": [],
   "source": [
    "%cd SuperGen\n",
    "!pip install transformers=4.24.0"
   ]
  },
  {
   "cell_type": "code",
   "execution_count": 2,
   "outputs": [
    {
     "name": "stdout",
     "output_type": "stream",
     "text": [
      "Namespace(pretrain_corpus_dir='pretrain_corpus/wiki_long.txt', task='MRPC', label='all', model_type='ctrl', model_name_or_path='ctrl', temperature='0', repetition_reward=None, repetition_penalty=None, p=1.0, k=10, seed=42, no_cuda=False, fp16=False, num_gen=10, max_len=40, save_dir='temp_gen', print_res=True)\r\n",
      "11/03/2023 00:44:25 - WARNING - __main__ - device: cpu, n_gpu: 0, 16-bits training: False\r\n",
      "  0%|                                                    | 0/10 [00:00<?, ?it/s]{'text1': \"From 2000 until 2004 she led a Stability Pact for South Eastern Europe task force against human trafficking, and in 2004 was appointed as the Organization for Security and Co-operation in Europe's special representative for the issue.\", 'text2': 'She was the representative for human trafficking, and in 2004 led a task force against trafficking as special representative of the Organization for Security and Co-operation in Europe (OSCE).', 'label': 'entailment', 'start_prompt': 'Wikipedia ', 'conj_prompt': 'In other words,', 'score': -0.4007759690284729}\r\n",
      "{'text1': \"From 2000 until 2004 she led a Stability Pact for South Eastern Europe task force against human trafficking, and in 2004 was appointed as the Organization for Security and Co-operation in Europe's special representative for the issue.\", 'text2': 'She was the representative for human trafficking, and in 2004 led a task force against trafficking as special representative of the Organization for Security and Co-operation in Europe (OSCE).', 'label': 'entailment', 'start_prompt': 'Wikipedia ', 'conj_prompt': 'In other words,', 'score': -0.4007759690284729}\r\n",
      " 10%|████▍                                       | 1/10 [01:20<12:01, 80.22s/it]None\r\n",
      " 20%|████████▊                                   | 2/10 [02:44<11:01, 82.69s/it]"
     ]
    },
    {
     "ename": "KeyboardInterrupt",
     "evalue": "",
     "output_type": "error",
     "traceback": [
      "\u001B[0;31m---------------------------------------------------------------------------\u001B[0m",
      "\u001B[0;31mKeyboardInterrupt\u001B[0m                         Traceback (most recent call last)",
      "File \u001B[0;32m/Users/codeEnvironmentSetup/anaconda3/lib/python3.10/site-packages/IPython/utils/_process_posix.py:153\u001B[0m, in \u001B[0;36mProcessHandler.system\u001B[0;34m(self, cmd)\u001B[0m\n\u001B[1;32m    150\u001B[0m \u001B[38;5;28;01mwhile\u001B[39;00m \u001B[38;5;28;01mTrue\u001B[39;00m:\n\u001B[1;32m    151\u001B[0m     \u001B[38;5;66;03m# res is the index of the pattern that caused the match, so we\u001B[39;00m\n\u001B[1;32m    152\u001B[0m     \u001B[38;5;66;03m# know whether we've finished (if we matched EOF) or not\u001B[39;00m\n\u001B[0;32m--> 153\u001B[0m     res_idx \u001B[38;5;241m=\u001B[39m \u001B[43mchild\u001B[49m\u001B[38;5;241;43m.\u001B[39;49m\u001B[43mexpect_list\u001B[49m\u001B[43m(\u001B[49m\u001B[43mpatterns\u001B[49m\u001B[43m,\u001B[49m\u001B[43m \u001B[49m\u001B[38;5;28;43mself\u001B[39;49m\u001B[38;5;241;43m.\u001B[39;49m\u001B[43mread_timeout\u001B[49m\u001B[43m)\u001B[49m\n\u001B[1;32m    154\u001B[0m     \u001B[38;5;28mprint\u001B[39m(child\u001B[38;5;241m.\u001B[39mbefore[out_size:]\u001B[38;5;241m.\u001B[39mdecode(enc, \u001B[38;5;124m'\u001B[39m\u001B[38;5;124mreplace\u001B[39m\u001B[38;5;124m'\u001B[39m), end\u001B[38;5;241m=\u001B[39m\u001B[38;5;124m'\u001B[39m\u001B[38;5;124m'\u001B[39m)\n",
      "File \u001B[0;32m/Users/codeEnvironmentSetup/anaconda3/lib/python3.10/site-packages/pexpect/spawnbase.py:372\u001B[0m, in \u001B[0;36mSpawnBase.expect_list\u001B[0;34m(self, pattern_list, timeout, searchwindowsize, async_, **kw)\u001B[0m\n\u001B[1;32m    371\u001B[0m \u001B[38;5;28;01melse\u001B[39;00m:\n\u001B[0;32m--> 372\u001B[0m     \u001B[38;5;28;01mreturn\u001B[39;00m \u001B[43mexp\u001B[49m\u001B[38;5;241;43m.\u001B[39;49m\u001B[43mexpect_loop\u001B[49m\u001B[43m(\u001B[49m\u001B[43mtimeout\u001B[49m\u001B[43m)\u001B[49m\n",
      "File \u001B[0;32m/Users/codeEnvironmentSetup/anaconda3/lib/python3.10/site-packages/pexpect/expect.py:169\u001B[0m, in \u001B[0;36mExpecter.expect_loop\u001B[0;34m(self, timeout)\u001B[0m\n\u001B[1;32m    168\u001B[0m \u001B[38;5;66;03m# Still have time left, so read more data\u001B[39;00m\n\u001B[0;32m--> 169\u001B[0m incoming \u001B[38;5;241m=\u001B[39m \u001B[43mspawn\u001B[49m\u001B[38;5;241;43m.\u001B[39;49m\u001B[43mread_nonblocking\u001B[49m\u001B[43m(\u001B[49m\u001B[43mspawn\u001B[49m\u001B[38;5;241;43m.\u001B[39;49m\u001B[43mmaxread\u001B[49m\u001B[43m,\u001B[49m\u001B[43m \u001B[49m\u001B[43mtimeout\u001B[49m\u001B[43m)\u001B[49m\n\u001B[1;32m    170\u001B[0m \u001B[38;5;28;01mif\u001B[39;00m \u001B[38;5;28mself\u001B[39m\u001B[38;5;241m.\u001B[39mspawn\u001B[38;5;241m.\u001B[39mdelayafterread \u001B[38;5;129;01mis\u001B[39;00m \u001B[38;5;129;01mnot\u001B[39;00m \u001B[38;5;28;01mNone\u001B[39;00m:\n",
      "File \u001B[0;32m/Users/codeEnvironmentSetup/anaconda3/lib/python3.10/site-packages/pexpect/pty_spawn.py:500\u001B[0m, in \u001B[0;36mspawn.read_nonblocking\u001B[0;34m(self, size, timeout)\u001B[0m\n\u001B[1;32m    497\u001B[0m \u001B[38;5;66;03m# Because of the select(0) check above, we know that no data\u001B[39;00m\n\u001B[1;32m    498\u001B[0m \u001B[38;5;66;03m# is available right now. But if a non-zero timeout is given\u001B[39;00m\n\u001B[1;32m    499\u001B[0m \u001B[38;5;66;03m# (possibly timeout=None), we call select() with a timeout.\u001B[39;00m\n\u001B[0;32m--> 500\u001B[0m \u001B[38;5;28;01mif\u001B[39;00m (timeout \u001B[38;5;241m!=\u001B[39m \u001B[38;5;241m0\u001B[39m) \u001B[38;5;129;01mand\u001B[39;00m \u001B[43mselect\u001B[49m\u001B[43m(\u001B[49m\u001B[43mtimeout\u001B[49m\u001B[43m)\u001B[49m:\n\u001B[1;32m    501\u001B[0m     \u001B[38;5;28;01mreturn\u001B[39;00m \u001B[38;5;28msuper\u001B[39m(spawn, \u001B[38;5;28mself\u001B[39m)\u001B[38;5;241m.\u001B[39mread_nonblocking(size)\n",
      "File \u001B[0;32m/Users/codeEnvironmentSetup/anaconda3/lib/python3.10/site-packages/pexpect/pty_spawn.py:450\u001B[0m, in \u001B[0;36mspawn.read_nonblocking.<locals>.select\u001B[0;34m(timeout)\u001B[0m\n\u001B[1;32m    449\u001B[0m \u001B[38;5;28;01mdef\u001B[39;00m \u001B[38;5;21mselect\u001B[39m(timeout):\n\u001B[0;32m--> 450\u001B[0m     \u001B[38;5;28;01mreturn\u001B[39;00m \u001B[43mselect_ignore_interrupts\u001B[49m\u001B[43m(\u001B[49m\u001B[43m[\u001B[49m\u001B[38;5;28;43mself\u001B[39;49m\u001B[38;5;241;43m.\u001B[39;49m\u001B[43mchild_fd\u001B[49m\u001B[43m]\u001B[49m\u001B[43m,\u001B[49m\u001B[43m \u001B[49m\u001B[43m[\u001B[49m\u001B[43m]\u001B[49m\u001B[43m,\u001B[49m\u001B[43m \u001B[49m\u001B[43m[\u001B[49m\u001B[43m]\u001B[49m\u001B[43m,\u001B[49m\u001B[43m \u001B[49m\u001B[43mtimeout\u001B[49m\u001B[43m)\u001B[49m[\u001B[38;5;241m0\u001B[39m]\n",
      "File \u001B[0;32m/Users/codeEnvironmentSetup/anaconda3/lib/python3.10/site-packages/pexpect/utils.py:143\u001B[0m, in \u001B[0;36mselect_ignore_interrupts\u001B[0;34m(iwtd, owtd, ewtd, timeout)\u001B[0m\n\u001B[1;32m    142\u001B[0m \u001B[38;5;28;01mtry\u001B[39;00m:\n\u001B[0;32m--> 143\u001B[0m     \u001B[38;5;28;01mreturn\u001B[39;00m \u001B[43mselect\u001B[49m\u001B[38;5;241;43m.\u001B[39;49m\u001B[43mselect\u001B[49m\u001B[43m(\u001B[49m\u001B[43miwtd\u001B[49m\u001B[43m,\u001B[49m\u001B[43m \u001B[49m\u001B[43mowtd\u001B[49m\u001B[43m,\u001B[49m\u001B[43m \u001B[49m\u001B[43mewtd\u001B[49m\u001B[43m,\u001B[49m\u001B[43m \u001B[49m\u001B[43mtimeout\u001B[49m\u001B[43m)\u001B[49m\n\u001B[1;32m    144\u001B[0m \u001B[38;5;28;01mexcept\u001B[39;00m \u001B[38;5;167;01mInterruptedError\u001B[39;00m:\n",
      "\u001B[0;31mKeyboardInterrupt\u001B[0m: ",
      "\nDuring handling of the above exception, another exception occurred:\n",
      "\u001B[0;31mKeyboardInterrupt\u001B[0m                         Traceback (most recent call last)",
      "Cell \u001B[0;32mIn[2], line 2\u001B[0m\n\u001B[1;32m      1\u001B[0m get_ipython()\u001B[38;5;241m.\u001B[39msystem(\u001B[38;5;124m'\u001B[39m\u001B[38;5;124mchmod +x run_gen.sh\u001B[39m\u001B[38;5;124m'\u001B[39m)\n\u001B[0;32m----> 2\u001B[0m \u001B[43mget_ipython\u001B[49m\u001B[43m(\u001B[49m\u001B[43m)\u001B[49m\u001B[38;5;241;43m.\u001B[39;49m\u001B[43msystem\u001B[49m\u001B[43m(\u001B[49m\u001B[38;5;124;43m'\u001B[39;49m\u001B[38;5;124;43m./run_gen.sh MRPC\u001B[39;49m\u001B[38;5;124;43m'\u001B[39;49m\u001B[43m)\u001B[49m\n",
      "File \u001B[0;32m/Users/codeEnvironmentSetup/anaconda3/lib/python3.10/site-packages/ipykernel/zmqshell.py:636\u001B[0m, in \u001B[0;36mZMQInteractiveShell.system_piped\u001B[0;34m(self, cmd)\u001B[0m\n\u001B[1;32m    634\u001B[0m         \u001B[38;5;28mself\u001B[39m\u001B[38;5;241m.\u001B[39muser_ns[\u001B[38;5;124m\"\u001B[39m\u001B[38;5;124m_exit_code\u001B[39m\u001B[38;5;124m\"\u001B[39m] \u001B[38;5;241m=\u001B[39m system(cmd)\n\u001B[1;32m    635\u001B[0m \u001B[38;5;28;01melse\u001B[39;00m:\n\u001B[0;32m--> 636\u001B[0m     \u001B[38;5;28mself\u001B[39m\u001B[38;5;241m.\u001B[39muser_ns[\u001B[38;5;124m\"\u001B[39m\u001B[38;5;124m_exit_code\u001B[39m\u001B[38;5;124m\"\u001B[39m] \u001B[38;5;241m=\u001B[39m \u001B[43msystem\u001B[49m\u001B[43m(\u001B[49m\u001B[38;5;28;43mself\u001B[39;49m\u001B[38;5;241;43m.\u001B[39;49m\u001B[43mvar_expand\u001B[49m\u001B[43m(\u001B[49m\u001B[43mcmd\u001B[49m\u001B[43m,\u001B[49m\u001B[43m \u001B[49m\u001B[43mdepth\u001B[49m\u001B[38;5;241;43m=\u001B[39;49m\u001B[38;5;241;43m1\u001B[39;49m\u001B[43m)\u001B[49m\u001B[43m)\u001B[49m\n",
      "File \u001B[0;32m/Users/codeEnvironmentSetup/anaconda3/lib/python3.10/site-packages/IPython/utils/_process_posix.py:164\u001B[0m, in \u001B[0;36mProcessHandler.system\u001B[0;34m(self, cmd)\u001B[0m\n\u001B[1;32m    159\u001B[0m         out_size \u001B[38;5;241m=\u001B[39m \u001B[38;5;28mlen\u001B[39m(child\u001B[38;5;241m.\u001B[39mbefore)\n\u001B[1;32m    160\u001B[0m \u001B[38;5;28;01mexcept\u001B[39;00m \u001B[38;5;167;01mKeyboardInterrupt\u001B[39;00m:\n\u001B[1;32m    161\u001B[0m     \u001B[38;5;66;03m# We need to send ^C to the process.  The ascii code for '^C' is 3\u001B[39;00m\n\u001B[1;32m    162\u001B[0m     \u001B[38;5;66;03m# (the character is known as ETX for 'End of Text', see\u001B[39;00m\n\u001B[1;32m    163\u001B[0m     \u001B[38;5;66;03m# curses.ascii.ETX).\u001B[39;00m\n\u001B[0;32m--> 164\u001B[0m     \u001B[43mchild\u001B[49m\u001B[38;5;241;43m.\u001B[39;49m\u001B[43msendline\u001B[49m\u001B[43m(\u001B[49m\u001B[38;5;28;43mchr\u001B[39;49m\u001B[43m(\u001B[49m\u001B[38;5;241;43m3\u001B[39;49m\u001B[43m)\u001B[49m\u001B[43m)\u001B[49m\n\u001B[1;32m    165\u001B[0m     \u001B[38;5;66;03m# Read and print any more output the program might produce on its\u001B[39;00m\n\u001B[1;32m    166\u001B[0m     \u001B[38;5;66;03m# way out.\u001B[39;00m\n\u001B[1;32m    167\u001B[0m     \u001B[38;5;28;01mtry\u001B[39;00m:\n",
      "File \u001B[0;32m/Users/codeEnvironmentSetup/anaconda3/lib/python3.10/site-packages/pexpect/pty_spawn.py:578\u001B[0m, in \u001B[0;36mspawn.sendline\u001B[0;34m(self, s)\u001B[0m\n\u001B[1;32m    572\u001B[0m \u001B[38;5;124;03m'''Wraps send(), sending string ``s`` to child process, with\u001B[39;00m\n\u001B[1;32m    573\u001B[0m \u001B[38;5;124;03m``os.linesep`` automatically appended. Returns number of bytes\u001B[39;00m\n\u001B[1;32m    574\u001B[0m \u001B[38;5;124;03mwritten.  Only a limited number of bytes may be sent for each\u001B[39;00m\n\u001B[1;32m    575\u001B[0m \u001B[38;5;124;03mline in the default terminal mode, see docstring of :meth:`send`.\u001B[39;00m\n\u001B[1;32m    576\u001B[0m \u001B[38;5;124;03m'''\u001B[39;00m\n\u001B[1;32m    577\u001B[0m s \u001B[38;5;241m=\u001B[39m \u001B[38;5;28mself\u001B[39m\u001B[38;5;241m.\u001B[39m_coerce_send_string(s)\n\u001B[0;32m--> 578\u001B[0m \u001B[38;5;28;01mreturn\u001B[39;00m \u001B[38;5;28;43mself\u001B[39;49m\u001B[38;5;241;43m.\u001B[39;49m\u001B[43msend\u001B[49m\u001B[43m(\u001B[49m\u001B[43ms\u001B[49m\u001B[43m \u001B[49m\u001B[38;5;241;43m+\u001B[39;49m\u001B[43m \u001B[49m\u001B[38;5;28;43mself\u001B[39;49m\u001B[38;5;241;43m.\u001B[39;49m\u001B[43mlinesep\u001B[49m\u001B[43m)\u001B[49m\n",
      "File \u001B[0;32m/Users/codeEnvironmentSetup/anaconda3/lib/python3.10/site-packages/pexpect/pty_spawn.py:563\u001B[0m, in \u001B[0;36mspawn.send\u001B[0;34m(self, s)\u001B[0m\n\u001B[1;32m    528\u001B[0m \u001B[38;5;124;03m'''Sends string ``s`` to the child process, returning the number of\u001B[39;00m\n\u001B[1;32m    529\u001B[0m \u001B[38;5;124;03mbytes written. If a logfile is specified, a copy is written to that\u001B[39;00m\n\u001B[1;32m    530\u001B[0m \u001B[38;5;124;03mlog.\u001B[39;00m\n\u001B[0;32m   (...)\u001B[0m\n\u001B[1;32m    559\u001B[0m \u001B[38;5;124;03m    >>> bash.sendline('x' * 5000)\u001B[39;00m\n\u001B[1;32m    560\u001B[0m \u001B[38;5;124;03m'''\u001B[39;00m\n\u001B[1;32m    562\u001B[0m \u001B[38;5;28;01mif\u001B[39;00m \u001B[38;5;28mself\u001B[39m\u001B[38;5;241m.\u001B[39mdelaybeforesend \u001B[38;5;129;01mis\u001B[39;00m \u001B[38;5;129;01mnot\u001B[39;00m \u001B[38;5;28;01mNone\u001B[39;00m:\n\u001B[0;32m--> 563\u001B[0m     \u001B[43mtime\u001B[49m\u001B[38;5;241;43m.\u001B[39;49m\u001B[43msleep\u001B[49m\u001B[43m(\u001B[49m\u001B[38;5;28;43mself\u001B[39;49m\u001B[38;5;241;43m.\u001B[39;49m\u001B[43mdelaybeforesend\u001B[49m\u001B[43m)\u001B[49m\n\u001B[1;32m    565\u001B[0m s \u001B[38;5;241m=\u001B[39m \u001B[38;5;28mself\u001B[39m\u001B[38;5;241m.\u001B[39m_coerce_send_string(s)\n\u001B[1;32m    566\u001B[0m \u001B[38;5;28mself\u001B[39m\u001B[38;5;241m.\u001B[39m_log(s, \u001B[38;5;124m'\u001B[39m\u001B[38;5;124msend\u001B[39m\u001B[38;5;124m'\u001B[39m)\n",
      "\u001B[0;31mKeyboardInterrupt\u001B[0m: "
     ]
    }
   ],
   "source": [
    "!chmod +x run_gen.sh\n",
    "!./run_gen.sh MRPC\n"
   ],
   "metadata": {
    "collapsed": false,
    "ExecuteTime": {
     "end_time": "2023-11-02T16:49:16.366593Z",
     "start_time": "2023-11-02T16:44:11.934089Z"
    }
   }
  },
  {
   "cell_type": "code",
   "execution_count": null,
   "outputs": [],
   "source": [
    "!python gen_train_data.py --task SST-2 --label all --num_gen 10 --max_len 30 --print_res\n",
    "!python gen_train_data.py --task SST-2 label all --save_dir temp_gen --print_res \\\n",
    "                         --num_gen 10 --max_len 30 --temperature 0.2"
   ],
   "metadata": {
    "collapsed": false
   }
  }
 ],
 "metadata": {
  "kernelspec": {
   "display_name": "Python 3",
   "language": "python",
   "name": "python3"
  },
  "language_info": {
   "codemirror_mode": {
    "name": "ipython",
    "version": 2
   },
   "file_extension": ".py",
   "mimetype": "text/x-python",
   "name": "python",
   "nbconvert_exporter": "python",
   "pygments_lexer": "ipython2",
   "version": "2.7.6"
  }
 },
 "nbformat": 4,
 "nbformat_minor": 0
}
